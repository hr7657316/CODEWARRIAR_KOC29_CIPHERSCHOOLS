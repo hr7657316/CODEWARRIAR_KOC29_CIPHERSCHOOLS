{
  "nbformat": 4,
  "nbformat_minor": 0,
  "metadata": {
    "colab": {
      "provenance": [],
      "authorship_tag": "ABX9TyO3XRr1szAIilEkJBdWvXdH",
      "include_colab_link": true
    },
    "kernelspec": {
      "name": "python3",
      "display_name": "Python 3"
    },
    "language_info": {
      "name": "python"
    }
  },
  "cells": [
    {
      "cell_type": "markdown",
      "metadata": {
        "id": "view-in-github",
        "colab_type": "text"
      },
      "source": [
        "<a href=\"https://colab.research.google.com/github/hr7657316/CODEWARRIAR_KOC29_CIPHERSCHOOLS/blob/main/class2_basics_of_python_primitive_data_types%2C_comments%2C_variable_CipherSchools.ipynb\" target=\"_parent\"><img src=\"https://colab.research.google.com/assets/colab-badge.svg\" alt=\"Open In Colab\"/></a>"
      ]
    },
    {
      "cell_type": "code",
      "execution_count": null,
      "metadata": {
        "colab": {
          "base_uri": "https://localhost:8080/"
        },
        "id": "acR52yKoAZ4z",
        "outputId": "12cb3c31-669e-4c84-a41f-7cebf0af8a82"
      },
      "outputs": [
        {
          "output_type": "stream",
          "name": "stdout",
          "text": [
            "1\n"
          ]
        }
      ],
      "source": [
        "a=1\n",
        "print(a)"
      ]
    },
    {
      "cell_type": "code",
      "source": [
        "a=200\n",
        "print(a)"
      ],
      "metadata": {
        "id": "IGBoc4pLA0nu"
      },
      "execution_count": null,
      "outputs": []
    },
    {
      "cell_type": "code",
      "source": [
        "a=225\n",
        "print(id(a))"
      ],
      "metadata": {
        "id": "wlj17nYTA3v0",
        "colab": {
          "base_uri": "https://localhost:8080/"
        },
        "outputId": "5bb8e10b-4a5c-4f18-cac7-c43e9f3aa41a"
      },
      "execution_count": null,
      "outputs": [
        {
          "output_type": "stream",
          "name": "stdout",
          "text": [
            "11538080\n"
          ]
        }
      ]
    },
    {
      "cell_type": "code",
      "source": [
        "print(hex(id(a)))"
      ],
      "metadata": {
        "colab": {
          "base_uri": "https://localhost:8080/"
        },
        "outputId": "6dab7833-25e9-484e-9763-d7a5cc8b4bfa",
        "id": "gkuKHFomUxjw"
      },
      "execution_count": null,
      "outputs": [
        {
          "output_type": "stream",
          "name": "stdout",
          "text": [
            "0xa9c7a0\n"
          ]
        }
      ]
    },
    {
      "cell_type": "code",
      "source": [
        "b=278\n",
        "print(id(b))"
      ],
      "metadata": {
        "colab": {
          "base_uri": "https://localhost:8080/"
        },
        "outputId": "e306f284-a638-471c-963b-8588c3e1ff70",
        "id": "D2BflP9_Uxjx"
      },
      "execution_count": null,
      "outputs": [
        {
          "output_type": "stream",
          "name": "stdout",
          "text": [
            "140614173229648\n"
          ]
        }
      ]
    },
    {
      "cell_type": "code",
      "source": [
        "c=278\n",
        "print(id(c))"
      ],
      "metadata": {
        "colab": {
          "base_uri": "https://localhost:8080/"
        },
        "outputId": "ffc3a664-59b2-4525-e3f0-d1b16bd21ad7",
        "id": "wCsKOs5UUxjx"
      },
      "execution_count": null,
      "outputs": [
        {
          "output_type": "stream",
          "name": "stdout",
          "text": [
            "140614173229584\n"
          ]
        }
      ]
    },
    {
      "cell_type": "code",
      "source": [
        "a=1\n",
        "print(a)"
      ],
      "metadata": {
        "colab": {
          "base_uri": "https://localhost:8080/"
        },
        "outputId": "70dadca5-91c7-4d2c-cef6-b4bc9fd3a911",
        "id": "nr9ZwZfeUxjx"
      },
      "execution_count": null,
      "outputs": [
        {
          "output_type": "stream",
          "name": "stdout",
          "text": [
            "1\n"
          ]
        }
      ]
    },
    {
      "cell_type": "code",
      "source": [
        "a=200\n",
        "print(a)"
      ],
      "metadata": {
        "colab": {
          "base_uri": "https://localhost:8080/"
        },
        "outputId": "d4b04f45-af65-4eeb-ee84-5c714fd86055",
        "id": "BbO4GXPfUxjx"
      },
      "execution_count": null,
      "outputs": [
        {
          "output_type": "stream",
          "name": "stdout",
          "text": [
            "200\n"
          ]
        }
      ]
    },
    {
      "cell_type": "code",
      "source": [
        "type(a)"
      ],
      "metadata": {
        "colab": {
          "base_uri": "https://localhost:8080/"
        },
        "outputId": "838836c6-2f1f-4e31-b7fd-85b3fee27236",
        "id": "SfrAvOGZUxjx"
      },
      "execution_count": null,
      "outputs": [
        {
          "output_type": "execute_result",
          "data": {
            "text/plain": [
              "int"
            ]
          },
          "metadata": {},
          "execution_count": 11
        }
      ]
    },
    {
      "cell_type": "code",
      "source": [
        "type(a)"
      ],
      "metadata": {
        "colab": {
          "base_uri": "https://localhost:8080/"
        },
        "id": "vS4ahX7ACmqD",
        "outputId": "a26e491c-2123-4854-cf28-91857c608f0a"
      },
      "execution_count": null,
      "outputs": [
        {
          "output_type": "execute_result",
          "data": {
            "text/plain": [
              "int"
            ]
          },
          "metadata": {},
          "execution_count": 12
        }
      ]
    },
    {
      "cell_type": "code",
      "source": [
        "a=225\n",
        "print(id(a))"
      ],
      "metadata": {
        "colab": {
          "base_uri": "https://localhost:8080/"
        },
        "outputId": "7bc80132-6cc8-4c63-97e5-9c1893b07e15",
        "id": "ygnpY7hKUxjx"
      },
      "execution_count": null,
      "outputs": [
        {
          "output_type": "stream",
          "name": "stdout",
          "text": [
            "11133856\n"
          ]
        }
      ]
    },
    {
      "cell_type": "code",
      "source": [
        "print(hex(id(a)))"
      ],
      "metadata": {
        "colab": {
          "base_uri": "https://localhost:8080/"
        },
        "outputId": "de8078ef-2ccb-4ba3-e9a2-8d68eb194454",
        "id": "h9qj-W8DUxjy"
      },
      "execution_count": null,
      "outputs": [
        {
          "output_type": "stream",
          "name": "stdout",
          "text": [
            "0xa9e3a0\n"
          ]
        }
      ]
    },
    {
      "cell_type": "code",
      "source": [
        "b=278\n",
        "print(id(b))"
      ],
      "metadata": {
        "colab": {
          "base_uri": "https://localhost:8080/"
        },
        "outputId": "30a26e25-96aa-49cf-cb40-b9d7ae8be19c",
        "id": "e0HqPFP8Uxjy"
      },
      "execution_count": null,
      "outputs": [
        {
          "output_type": "stream",
          "name": "stdout",
          "text": [
            "140614173231024\n"
          ]
        }
      ]
    },
    {
      "cell_type": "code",
      "source": [
        "c=278\n",
        "print(id(c))"
      ],
      "metadata": {
        "id": "IhwcRXQyUxjy"
      },
      "execution_count": null,
      "outputs": []
    },
    {
      "cell_type": "code",
      "execution_count": null,
      "metadata": {
        "id": "6AU040YpT2yz"
      },
      "outputs": [],
      "source": []
    },
    {
      "cell_type": "code",
      "source": [
        "print(hex(id(a)))"
      ],
      "metadata": {
        "colab": {
          "base_uri": "https://localhost:8080/"
        },
        "id": "ICS0hRA9A9BY",
        "outputId": "13bcf1ae-2ba5-43a6-dc96-20d44e6c61f9"
      },
      "execution_count": null,
      "outputs": [
        {
          "output_type": "stream",
          "name": "stdout",
          "text": [
            "0xb00ea0\n"
          ]
        }
      ]
    },
    {
      "cell_type": "code",
      "source": [
        "b=278\n",
        "print(id(b))"
      ],
      "metadata": {
        "colab": {
          "base_uri": "https://localhost:8080/"
        },
        "id": "x28xHK-xA_3-",
        "outputId": "86c38566-dae2-45f9-e8ed-d0d7f97e8668"
      },
      "execution_count": null,
      "outputs": [
        {
          "output_type": "stream",
          "name": "stdout",
          "text": [
            "139964962278032\n"
          ]
        }
      ]
    },
    {
      "cell_type": "code",
      "source": [
        "c=278\n",
        "print(id(c))"
      ],
      "metadata": {
        "colab": {
          "base_uri": "https://localhost:8080/"
        },
        "id": "3qaC8lVtBFA3",
        "outputId": "ffc3a664-59b2-4525-e3f0-d1b16bd21ad7"
      },
      "execution_count": null,
      "outputs": [
        {
          "output_type": "stream",
          "name": "stdout",
          "text": [
            "140614173229584\n"
          ]
        }
      ]
    },
    {
      "cell_type": "code",
      "source": [
        "a=1\n",
        "print(a)"
      ],
      "metadata": {
        "colab": {
          "base_uri": "https://localhost:8080/"
        },
        "id": "4C__pFxlBYnp",
        "outputId": "70dadca5-91c7-4d2c-cef6-b4bc9fd3a911"
      },
      "execution_count": null,
      "outputs": [
        {
          "output_type": "stream",
          "name": "stdout",
          "text": [
            "1\n"
          ]
        }
      ]
    },
    {
      "cell_type": "code",
      "source": [
        "a=200\n",
        "print(a)"
      ],
      "metadata": {
        "colab": {
          "base_uri": "https://localhost:8080/"
        },
        "id": "ci4r1eqEBpI2",
        "outputId": "d4b04f45-af65-4eeb-ee84-5c714fd86055"
      },
      "execution_count": null,
      "outputs": [
        {
          "output_type": "stream",
          "name": "stdout",
          "text": [
            "200\n"
          ]
        }
      ]
    },
    {
      "cell_type": "code",
      "source": [
        "type(a)"
      ],
      "metadata": {
        "colab": {
          "base_uri": "https://localhost:8080/"
        },
        "id": "57xs57LkCE7j",
        "outputId": "838836c6-2f1f-4e31-b7fd-85b3fee27236"
      },
      "execution_count": null,
      "outputs": [
        {
          "output_type": "execute_result",
          "data": {
            "text/plain": [
              "int"
            ]
          },
          "metadata": {},
          "execution_count": 11
        }
      ]
    },
    {
      "cell_type": "code",
      "source": [
        "a=225\n",
        "print(id(a))"
      ],
      "metadata": {
        "colab": {
          "base_uri": "https://localhost:8080/"
        },
        "id": "ME0qxSJ_CqzP",
        "outputId": "7bc80132-6cc8-4c63-97e5-9c1893b07e15"
      },
      "execution_count": null,
      "outputs": [
        {
          "output_type": "stream",
          "name": "stdout",
          "text": [
            "11133856\n"
          ]
        }
      ]
    },
    {
      "cell_type": "code",
      "source": [
        "print(hex(id(a)))"
      ],
      "metadata": {
        "colab": {
          "base_uri": "https://localhost:8080/"
        },
        "id": "JQ-qOJgJCun3",
        "outputId": "de8078ef-2ccb-4ba3-e9a2-8d68eb194454"
      },
      "execution_count": null,
      "outputs": [
        {
          "output_type": "stream",
          "name": "stdout",
          "text": [
            "0xa9e3a0\n"
          ]
        }
      ]
    },
    {
      "cell_type": "code",
      "source": [
        "b=278\n",
        "print(id(b))"
      ],
      "metadata": {
        "colab": {
          "base_uri": "https://localhost:8080/"
        },
        "id": "vzbochckCygl",
        "outputId": "743476f5-5290-481e-d7ab-762cf2bf4d01"
      },
      "execution_count": null,
      "outputs": [
        {
          "output_type": "stream",
          "name": "stdout",
          "text": [
            "139965007462032\n"
          ]
        }
      ]
    },
    {
      "cell_type": "code",
      "source": [
        "c=278\n",
        "print(id(c))"
      ],
      "metadata": {
        "id": "m6N4SD3_C2o0",
        "colab": {
          "base_uri": "https://localhost:8080/"
        },
        "outputId": "a3cb8f8c-4264-4fcc-add9-6d0587814d53"
      },
      "execution_count": null,
      "outputs": [
        {
          "output_type": "stream",
          "name": "stdout",
          "text": [
            "139964962277904\n"
          ]
        }
      ]
    }
  ]
}